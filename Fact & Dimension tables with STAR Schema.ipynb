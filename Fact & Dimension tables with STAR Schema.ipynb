{
 "cells": [
  {
   "cell_type": "code",
   "execution_count": 1,
   "id": "16629bd6",
   "metadata": {},
   "outputs": [],
   "source": [
    "import psycopg2"
   ]
  },
  {
   "cell_type": "code",
   "execution_count": 2,
   "id": "33341f21",
   "metadata": {},
   "outputs": [],
   "source": [
    "#creating a connection to the database\n",
    "try:\n",
    "    conn = psycopg2.connect(database=\"postgres\", user=\"postgres\", password=\"Meena@4444\", host=\"localhost\", port=\"5433\")\n",
    "except psycopg2.Error as e:\n",
    "        print(\"Error:Could not make connection to the PG database\")\n",
    "        print(e)\n",
    "try:\n",
    "    cur = conn.cursor()\n",
    "except psycopg2.Error as e:\n",
    "    print(\"Error:Could not get cursor to the DB\")\n",
    "    print(e)\n",
    "conn.set_session(autocommit=True)"
   ]
  },
  {
   "cell_type": "markdown",
   "id": "d9eb3ad1",
   "metadata": {},
   "source": [
    "#### now lets Imagine we work at an online music store. there will be many tables in our database, but lets just focus on 4 tables around customer purhases. "
   ]
  },
  {
   "cell_type": "code",
   "execution_count": 3,
   "id": "6f8968ff",
   "metadata": {},
   "outputs": [],
   "source": [
    "# lets do this step by step \n",
    "# step 1 : Creating the fact table and inser the data into the table\n",
    "try: \n",
    "    cur.execute('''\n",
    "    CREATE TABLE customer_transactions\n",
    "    (customer_id int, store_id int, amount_spent float)                \n",
    "    ''')\n",
    "except psycopg2.Error as e: \n",
    "    print(\"Error: Issue creating table\")\n",
    "    print (e)\n",
    "    \n",
    "#Insert into all tables \n",
    "try: \n",
    "    cur.execute('''\n",
    "    INSERT INTO customer_transactions\n",
    "    (customer_id, store_id, amount_spent)\n",
    "    VALUES (%s, %s, %s)\n",
    "    ''', (1, 1, 20.5))\n",
    "except psycopg2.Error as e: \n",
    "    print(\"Error: Inserting Rows\")\n",
    "    print (e)\n",
    "try: \n",
    "    cur.execute('''\n",
    "    INSERT INTO customer_transactions\n",
    "    (customer_id, store_id, amount_spent)\n",
    "    VALUES (%s, %s, %s)\n",
    "    ''', (2, 1, 35.21))\n",
    "except psycopg2.Error as e: \n",
    "    print(\"Error: Inserting Rows\")\n",
    "    print (e)"
   ]
  },
  {
   "cell_type": "code",
   "execution_count": 4,
   "id": "ac8bfdfe",
   "metadata": {},
   "outputs": [],
   "source": [
    "#step2: Creating the dimansion table and insrerting the data into the table\n",
    "try: \n",
    "    cur.execute('''\n",
    "    CREATE TABLE customer\n",
    "    (customer_id int, name varchar, rewards varchar)                \n",
    "    ''')\n",
    "except psycopg2.Error as e: \n",
    "    print(\"Error: Issue creating table\")\n",
    "    print (e)\n",
    "    \n",
    "try: \n",
    "    cur.execute('''\n",
    "    INSERT INTO customer\n",
    "    (customer_id, name, rewards) \n",
    "    VALUES (%s, %s, %s)\n",
    "    ''', (1, 'Amanda', 'Y'))\n",
    "except psycopg2.Error as e: \n",
    "    print(\"Error: Inserting Rows\")\n",
    "    print (e)\n",
    "    \n",
    "try: \n",
    "    cur.execute('''\n",
    "    INSERT INTO customer\n",
    "    (customer_id, name, rewards)\n",
    "    VALUES (%s, %s, %s)\n",
    "    ''', (2, 'Toby', 'N'))\n",
    "except psycopg2.Error as e: \n",
    "    print(\"Error: Inserting Rows\")\n",
    "    print (e)\n",
    "    \n",
    "try: \n",
    "    cur.execute('''\n",
    "    CREATE TABLE items_purchased\n",
    "    (customer_id int, item_number int, item_name varchar)                \n",
    "    ''')\n",
    "except psycopg2.Error as e: \n",
    "    print(\"Error: Issue creating table\")\n",
    "    print (e)\n",
    "    \n",
    "try: \n",
    "    cur.execute('''\n",
    "    INSERT INTO items_purchased\n",
    "    (customer_id, item_number, item_name)\n",
    "    VALUES (%s, %s, %s)\n",
    "    ''', (1, 1, 'Rubber Soul'))\n",
    "except psycopg2.Error as e: \n",
    "    print(\"Error: Inserting Rows\")\n",
    "    print (e)\n",
    "try: \n",
    "    cur.execute('''\n",
    "    INSERT INTO items_purchased\n",
    "    (customer_id, item_number, item_name)\n",
    "    VALUES (%s, %s, %s)\n",
    "    ''', (2, 3, 'Let It Be'))\n",
    "except psycopg2.Error as e: \n",
    "    print(\"Error: Inserting Rows\")\n",
    "    print (e)\n",
    "    \n",
    "try: \n",
    "    cur.execute('''\n",
    "    CREATE TABLE store\n",
    "    (store_id int, state varchar)                \n",
    "    ''')\n",
    "except psycopg2.Error as e: \n",
    "    print(\"Error: Issue creating table\")\n",
    "    print (e)\n",
    "    \n",
    "try: \n",
    "    cur.execute('''\n",
    "    INSERT INTO store\n",
    "    (store_id, state)\n",
    "    VALUES (%s, %s)\n",
    "    ''', (1, 'CA'))\n",
    "except psycopg2.Error as e: \n",
    "    print(\"Error: Inserting Rows\")\n",
    "    print (e)\n",
    "\n",
    "try: \n",
    "    cur.execute('''\n",
    "    INSERT INTO store\n",
    "    (store_id, state)\n",
    "    VALUES (%s, %s)\n",
    "    ''', (2, 'WA'))\n",
    "except psycopg2.Error as e: \n",
    "    print(\"Error: Inserting Rows\")\n",
    "    print (e)"
   ]
  },
  {
   "cell_type": "markdown",
   "id": "4966284e",
   "metadata": {},
   "source": [
    "### No lets run few queries on this data. \n",
    "1. Find all the customers that spent more than 30 dollars, who are they, which store they bought it from, location of the store, what they bought and if they are a rewards member.\n"
   ]
  },
  {
   "cell_type": "code",
   "execution_count": 5,
   "id": "1c3d47a6",
   "metadata": {},
   "outputs": [
    {
     "name": "stdout",
     "output_type": "stream",
     "text": [
      "('Toby', 1, 'CA', 'Let It Be', 'N')\n"
     ]
    }
   ],
   "source": [
    "try: \n",
    "    cur.execute('''\n",
    "    SELECT customer.name, store.store_id, store.state,\n",
    "    items_purchased.item_name, customer.rewards\n",
    "    FROM customer_transactions\n",
    "    JOIN customer ON customer_transactions.customer_id = customer.customer_id\n",
    "    JOIN store ON customer_transactions.store_id = store.store_id\n",
    "    JOIN items_purchased ON customer_transactions.customer_id = items_purchased.customer_id\n",
    "    WHERE customer_transactions.amount_spent > 30\n",
    "    ''')\n",
    "except psycopg2.Error as e: \n",
    "    print(\"Error: select *\")\n",
    "    print (e)\n",
    "\n",
    "row = cur.fetchone()\n",
    "while row:\n",
    "   print(row)\n",
    "   row = cur.fetchone()"
   ]
  },
  {
   "cell_type": "markdown",
   "id": "8e7d5f8c",
   "metadata": {},
   "source": [
    "2. How much did Customer 2 spend?"
   ]
  },
  {
   "cell_type": "code",
   "execution_count": 6,
   "id": "2802b20d",
   "metadata": {},
   "outputs": [
    {
     "name": "stdout",
     "output_type": "stream",
     "text": [
      "(2, 35.21)\n"
     ]
    }
   ],
   "source": [
    "try: \n",
    "    cur.execute('''\n",
    "    SELECT customer_id, SUM(amount_spent) FROM customer_transactions\n",
    "    WHERE customer_id=2\n",
    "    GROUP BY customer_id\n",
    "    ''')\n",
    "    \n",
    "    \n",
    "except psycopg2.Error as e: \n",
    "    print(\"Error: select *\")\n",
    "    print (e)\n",
    "\n",
    "row = cur.fetchone()\n",
    "while row:\n",
    "   print(row)\n",
    "   row = cur.fetchone()"
   ]
  },
  {
   "cell_type": "code",
   "execution_count": 7,
   "id": "cce53e2e",
   "metadata": {},
   "outputs": [],
   "source": [
    "# drop the tables \n",
    "try: \n",
    "    cur.execute(\"DROP TABLE customer_transactions\")\n",
    "    cur.execute(\"DROP TABLE customer\")\n",
    "    cur.execute(\"DROP TABLE store\")\n",
    "    cur.execute(\"DROP TABLE items_purchased\")\n",
    "except psycopg2.Error as e: \n",
    "    print(\"Error: Dropping table\")\n",
    "    print (e)"
   ]
  },
  {
   "cell_type": "code",
   "execution_count": 8,
   "id": "7025d834",
   "metadata": {},
   "outputs": [],
   "source": [
    "cur.close()\n",
    "conn.close()"
   ]
  },
  {
   "cell_type": "code",
   "execution_count": null,
   "id": "224d7cf5",
   "metadata": {},
   "outputs": [],
   "source": []
  }
 ],
 "metadata": {
  "kernelspec": {
   "display_name": "Python 3 (ipykernel)",
   "language": "python",
   "name": "python3"
  },
  "language_info": {
   "codemirror_mode": {
    "name": "ipython",
    "version": 3
   },
   "file_extension": ".py",
   "mimetype": "text/x-python",
   "name": "python",
   "nbconvert_exporter": "python",
   "pygments_lexer": "ipython3",
   "version": "3.9.12"
  }
 },
 "nbformat": 4,
 "nbformat_minor": 5
}
